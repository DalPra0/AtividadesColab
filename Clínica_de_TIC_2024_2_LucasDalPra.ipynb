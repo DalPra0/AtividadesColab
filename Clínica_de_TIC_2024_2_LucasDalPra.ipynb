{
  "nbformat": 4,
  "nbformat_minor": 0,
  "metadata": {
    "colab": {
      "provenance": [],
      "collapsed_sections": [
        "3wIBLZ-Ok1EY",
        "BL5u862Mqmsc",
        "STzBhpsIu6uy",
        "KiwXd_aufdpA",
        "HDx7BAdIhIva",
        "uE1XdypRhd3S",
        "1I90rYpSrv7o"
      ],
      "authorship_tag": "ABX9TyMOmvcI22sfzL6E6yS45rsP",
      "include_colab_link": true
    },
    "kernelspec": {
      "name": "python3",
      "display_name": "Python 3"
    },
    "language_info": {
      "name": "python"
    }
  },
  "cells": [
    {
      "cell_type": "markdown",
      "metadata": {
        "id": "view-in-github",
        "colab_type": "text"
      },
      "source": [
        "<a href=\"https://colab.research.google.com/github/DalPra0/AtividadesColab/blob/main/Cl%C3%ADnica_de_TIC_2024_2_LucasDalPra.ipynb\" target=\"_parent\"><img src=\"https://colab.research.google.com/assets/colab-badge.svg\" alt=\"Open In Colab\"/></a>"
      ]
    },
    {
      "cell_type": "markdown",
      "source": [
        "# Referencia Bibliograficas"
      ],
      "metadata": {
        "id": "3wIBLZ-Ok1EY"
      }
    },
    {
      "cell_type": "markdown",
      "source": [
        "1.SILBERSCHATZ, Abraham. Fundamentos de sistemas operacionais. 9 ed.\n",
        "\n",
        "https://integrada.minhabiblioteca.com.br/reader/books/978-85-216-3001-2/epubcfi/6/2%5B%3Bvnd.vst.idref%3Dcover%5D!/4/2/2%4074:38\n"
      ],
      "metadata": {
        "id": "DpKV-wnVpe2F"
      }
    },
    {
      "cell_type": "markdown",
      "source": [
        "2.TANENBAUM, Andrew S.; BOS, Herbert. Sistemas operacionais modernos. 4. ed.\n",
        "\n",
        "https://plataforma.bvirtual.com.br/Acervo/Publicacao/213434"
      ],
      "metadata": {
        "id": "9KleIjpHqPwv"
      }
    },
    {
      "cell_type": "markdown",
      "source": [
        "3.KUROSE, James F.; ROSS, Keith W. Redes de computadores e a Internet: uma abordagem top-down. 6. ed.\n",
        "\n",
        "https://integrada.minhabiblioteca.com.br/reader/books/9788582603734/pageid/0"
      ],
      "metadata": {
        "id": "DJrraPGlqU8H"
      }
    },
    {
      "cell_type": "markdown",
      "source": [
        "# Atividade 04 - Exercícios em Python"
      ],
      "metadata": {
        "id": "BL5u862Mqmsc"
      }
    },
    {
      "cell_type": "code",
      "source": [
        "nota1 = float(input(\"Digite a primeira nota: \"))\n",
        "nota2 = float(input(\"Digite a segunda nota: \"))\n",
        "\n",
        "print(\"A media das notas\", nota1, nota2, \"é:\", (nota1+nota2)/2)"
      ],
      "metadata": {
        "colab": {
          "base_uri": "https://localhost:8080/"
        },
        "id": "xYL-6SQmqqXE",
        "outputId": "e9f29fc9-cb6a-4383-f49a-8b2f13b03dc4"
      },
      "execution_count": null,
      "outputs": [
        {
          "output_type": "stream",
          "name": "stdout",
          "text": [
            "Digite a primeira nota: 1\n",
            "Digite a segunda nota: 1\n",
            "A media das notas 1.0 1.0 é: 1.0\n"
          ]
        }
      ]
    },
    {
      "cell_type": "code",
      "source": [
        "def main():\n",
        "  numero1 = float(input(\"Digite o primeiro numero: \"))\n",
        "  numero2 = float(input(\"Digite o segundo numero: \"))\n",
        "\n",
        "  print(\"1 - Soma, 2 - Subtração, 3 - Multiplicação, 4 - Divisão\")\n",
        "  operacao = int(input(\"Digite a operação desejada: \"))\n",
        "\n",
        "  if operacao == 1:\n",
        "    soma(numero1, numero2)\n",
        "  elif operacao == 2:\n",
        "    subtracao(numero1, numero2)\n",
        "  elif operacao == 3:\n",
        "    multiplicacao(numero1, numero2)\n",
        "  elif operacao == 4:\n",
        "    divisao(numero1, numero2)\n",
        "\n",
        "def soma(numero1, numero2):\n",
        "  somaNum = numero1 + numero2\n",
        "  print(\"A soma dos numeros\", numero1, numero2, \"é:\", somaNum)\n",
        "  return\n",
        "\n",
        "def subtracao(numero1, numero2):\n",
        "  subNum = numero1 - numero2\n",
        "  print(\"A subtração dos numeros\", numero1, numero2, \"é:\", subNum)\n",
        "  return\n",
        "\n",
        "def multiplicacao(numero1, numero2):\n",
        "  multNum = numero1 * numero2\n",
        "  print(\"A multiplicação dos numeros\", numero1, numero2, \"é:\", multNum)\n",
        "  return\n",
        "\n",
        "def divisao(numero1, numero2):\n",
        "  divNum = numero1 / numero2\n",
        "  print(\"A divisão dos numeros\", numero1, numero2, \"é:\", divNum)\n",
        "  return\n",
        "\n",
        "main()"
      ],
      "metadata": {
        "colab": {
          "base_uri": "https://localhost:8080/"
        },
        "id": "utIyVMm1sSR5",
        "outputId": "0e817237-2232-4e2e-85ca-ada89c763d8a"
      },
      "execution_count": null,
      "outputs": [
        {
          "output_type": "stream",
          "name": "stdout",
          "text": [
            "Digite o primeiro numero: 1\n",
            "Digite o segundo numero: 2\n",
            "1 - Soma, 2 - Subtração, 3 - Multiplicação, 4 - Divisão\n",
            "Digite a operação desejada: 1\n",
            "A soma dos numeros 1.0 2.0 é: 3.0\n"
          ]
        }
      ]
    },
    {
      "cell_type": "markdown",
      "source": [
        "# Atividade 05 - Definição de CSCF"
      ],
      "metadata": {
        "id": "STzBhpsIu6uy"
      }
    },
    {
      "cell_type": "markdown",
      "source": [
        "- Conectividade: Capacidade de sistemas e dispositivos de se comunicarem\n",
        "- Sistemas: Conjunto de componentes interligados que trabalham juntos.\n",
        "- Ciber: Relacionado a tecnologias digitais e computacionais.\n",
        "- Físicos: Relacionado a componentes e dispositivos do mundo real.\n",
        "- Conectividade em Sistemas Ciber Físicos: A comunicação entre componentes digitais e físicos em um sistema integrado."
      ],
      "metadata": {
        "id": "glWMJbIXu_L1"
      }
    },
    {
      "cell_type": "markdown",
      "source": [
        "# Atividade 06 - Definições de Rede e S.O."
      ],
      "metadata": {
        "id": "KiwXd_aufdpA"
      }
    },
    {
      "cell_type": "markdown",
      "source": [
        "- Sistema Operacional(OS): Sistema operativo ou sistema operacional é um programa ou um conjunto de programas cuja função é gerenciar os recursos do sistema, fornecendo uma interface entre o computador e o usuário ou utilizador.\n",
        "- Redes de Computador: Redes de computadores referem-se a dispositivos de computação interconectados que podem trocar dados e compartilhar recursos entre si. Esses dispositivos em rede usam um sistema de regras, chamados de protocolos de comunicação, para transmitir informações por meio de tecnologias físicas ou sem fio.\n",
        "\n",
        "- Tipos de Rede:\n",
        "\n",
        "LAN (Local Area Network):\n",
        "\n",
        "    Descrição: Uma rede local que cobre uma área geograficamente pequena, como uma residência, escritório ou edifício. É usada para conectar dispositivos próximos, como computadores e impressoras.\n",
        "    Exemplo: Redes de escritório ou rede doméstica.\n",
        "\n",
        "WAN (Wide Area Network):\n",
        "\n",
        "    Descrição: Uma rede que cobre uma grande área geográfica, como uma cidade, país ou até mesmo o mundo. Conecta LANs e outras redes menores em locais diferentes.\n",
        "    Exemplo: A internet é o exemplo mais famoso de uma WAN.\n",
        "\n",
        "MAN (Metropolitan Area Network):\n",
        "\n",
        "    Descrição: Uma rede que cobre uma área geográfica maior que uma LAN, mas menor que uma WAN, geralmente uma cidade ou um campus universitário.\n",
        "    Exemplo: Redes de bibliotecas municipais ou redes de transporte público.\n",
        "\n",
        "PAN (Personal Area Network):\n",
        "\n",
        "    Descrição: Uma rede de área pessoal que cobre uma área muito pequena, geralmente dentro de um alcance de 10 metros. É usada para conectar dispositivos pessoais próximos.\n",
        "    Exemplo: Conexões Bluetooth entre um smartphone e um fone de ouvido.\n",
        "\n",
        "WLAN (Wireless Local Area Network):\n",
        "\n",
        "    Descrição: Uma variação de LAN que usa tecnologia sem fio para conectar dispositivos. É comumente usada para conectar dispositivos em um local sem a necessidade de cabos.\n",
        "    Exemplo: Redes Wi-Fi em casas ou cafés.\n",
        "\n",
        "WWAN (Wireless Wide Area Network):\n",
        "\n",
        "    Descrição: Uma rede sem fio que cobre uma área ampla, frequentemente usando tecnologias móveis como 3G, 4G ou 5G. É usada para conectar dispositivos em áreas geograficamente grandes.\n",
        "    Exemplo: Redes de telefonia móvel.\n",
        "\n",
        "VPN (Virtual Private Network):\n",
        "\n",
        "    Descrição: Uma rede que cria uma conexão segura e criptografada sobre uma rede pública, como a internet. Permite acesso remoto seguro a uma rede privada.\n",
        "    Exemplo: Acesso remoto ao sistema corporativo de casa ou em viagem.\n",
        "\n",
        "CAN (Campus Area Network):\n",
        "\n",
        "    Descrição: Uma rede que cobre uma área geográfica específica, como um campus universitário ou um grande complexo de edifícios.\n",
        "    Exemplo: A rede de dados de uma universidade.\n",
        "\n",
        "SAN (Storage Area Network):\n",
        "\n",
        "    Descrição: Uma rede especializada que fornece acesso de alta velocidade a dispositivos de armazenamento de dados. É usada para conectar servidores a unidades de armazenamento em grandes centros de dados.\n",
        "    Exemplo: Redes que conectam servidores a sistemas de armazenamento em data centers.\n",
        "\n",
        "IoT Network (Internet of Things Network):\n",
        "\n",
        "    Descrição: Uma rede projetada para conectar e gerenciar dispositivos IoT, como sensores, câmeras e outros dispositivos inteligentes.\n",
        "    Exemplo: Redes usadas para conectar dispositivos domésticos inteligentes, como termostatos e câmeras de segurança.\n",
        "\n",
        "Ad Hoc Network:\n",
        "\n",
        "    Descrição: Uma rede temporária formada sem a necessidade de um roteador ou infraestrutura de rede centralizada. Os dispositivos se comunicam diretamente entre si.\n",
        "    Exemplo: Redes formadas por smartphones durante uma emergência."
      ],
      "metadata": {
        "id": "zHkJ532ufhMJ"
      }
    },
    {
      "cell_type": "markdown",
      "source": [
        "# Atividade 07 - Camadas do modelo OSI"
      ],
      "metadata": {
        "id": "HDx7BAdIhIva"
      }
    },
    {
      "cell_type": "markdown",
      "source": [
        "Camada 1: Física (Physical Layer)\n",
        "\n",
        "    Descrição: Trata da transmissão de dados brutos através do meio físico. Define as características elétricas, mecânicas e de procedimento para a ativação e desativação dos canais físicos. Inclui a especificação de cabos, conectores e sinalização.\n",
        "    Funções: Transmissão e recepção de bits não estruturados através de um canal de comunicação.\n",
        "    Exemplos: Cabos Ethernet, conectores RJ-45, padrões de sinalização como 802.3 (Ethernet) e 802.11 (Wi-Fi).\n",
        "\n",
        "Camada 2: Enlace de Dados (Data Link Layer)\n",
        "\n",
        "    Descrição: Garante a transferência confiável de dados entre dois dispositivos conectados diretamente. Divide os dados em quadros (frames) e cuida da detecção e correção de erros que possam ocorrer na camada física.\n",
        "    Funções: Endereçamento físico (endereços MAC), controle de acesso ao meio (MAC), detecção e correção de erros.\n",
        "    Exemplos: Protocolos como Ethernet, PPP (Point-to-Point Protocol), e protocolos de controle de acesso como CSMA/CD (Carrier Sense Multiple Access with Collision Detection).\n",
        "\n",
        "Camada 3: Rede (Network Layer)\n",
        "\n",
        "    Descrição: Responsável pelo roteamento e endereçamento de pacotes entre redes diferentes. Trata da escolha do caminho que os dados devem seguir para chegar ao destino.\n",
        "    Funções: Endereçamento lógico (endereços IP), roteamento, fragmentação e reassembly de pacotes.\n",
        "    Exemplos: Protocolos como IP (Internet Protocol), ICMP (Internet Control Message Protocol).\n",
        "\n",
        "Camada 4: Transporte (Transport Layer)\n",
        "\n",
        "    Descrição: Garante a entrega correta e ordenada dos dados entre sistemas finais. Gerencia o fluxo de dados e realiza o controle de erros end-to-end.\n",
        "    Funções: Controle de fluxo, controle de erros, multiplexação de conexões.\n",
        "    Exemplos: Protocolos como TCP (Transmission Control Protocol) e UDP (User Datagram Protocol).\n",
        "\n",
        "Camada 5: Sessão (Session Layer)\n",
        "\n",
        "    Descrição: Gerencia a abertura, manutenção e fechamento de sessões de comunicação entre aplicações. Sincroniza o diálogo entre os sistemas.\n",
        "    Funções: Estabelecimento, gerenciamento e término de sessões de comunicação.\n",
        "    Exemplos: Protocolos e serviços que lidam com sessões, como APIs de comunicação em rede.\n",
        "\n",
        "Camada 6: Apresentação (Presentation Layer)\n",
        "\n",
        "    Descrição: Traduz, criptografa e comprime os dados conforme necessário para a camada de aplicação. Prepara os dados para a transmissão e garante que o formato dos dados seja compreensível para a camada de aplicação.\n",
        "    Funções: Tradução de dados, criptografia, compressão.\n",
        "    Exemplos: Formatos de arquivo como JPEG, MPEG, e protocolos de criptografia como SSL/TLS.\n",
        "\n",
        "Camada 7: Aplicação (Application Layer)\n",
        "\n",
        "    Descrição: Fornece serviços e interfaces para as aplicações do usuário. É a camada mais próxima do usuário final e lida com a comunicação entre softwares e redes.\n",
        "    Funções: Interface com o usuário, serviços de rede como e-mail, transferência de arquivos e navegação web.\n",
        "    Exemplos: Protocolos como HTTP (Hypertext Transfer Protocol), FTP (File Transfer Protocol), SMTP (Simple Mail Transfer Protocol)."
      ],
      "metadata": {
        "id": "LE7rg01lhODS"
      }
    },
    {
      "cell_type": "markdown",
      "source": [
        "# Atividade 08 - Simulação Modelo OSI com Python"
      ],
      "metadata": {
        "id": "uE1XdypRhd3S"
      }
    },
    {
      "cell_type": "code",
      "source": [
        "letra = \"A\"\n",
        "camada1 = \"h7\"\n",
        "camada2 = \"h6\"\n",
        "camada3 = \"h5\"\n",
        "camada4 = \"h4\"\n",
        "camada5 = \"h3\"\n",
        "camada6 = \"h2\"\n",
        "camada7 = \"h1\"\n",
        "\n",
        "print(\"A letra atual é\", letra)\n",
        "\n",
        "camadaAtual = camada1 + letra\n",
        "print(\"Camada de Aplicação n7:\", camadaAtual)\n",
        "\n",
        "\n",
        "camadaAntiga = camadaAtual\n",
        "camadaAtual = camada2 + camadaAntiga\n",
        "\n",
        "print(\"Camada de Apresentação n6:\", camadaAtual)\n",
        "\n",
        "camadaAntiga = camadaAtual\n",
        "camadaAtual = camada3 + camadaAntiga\n",
        "\n",
        "print(\"Camada de Sessão n5:\", camadaAtual)\n",
        "\n",
        "camadaAntiga = camadaAtual\n",
        "camadaAtual = camada4 + camadaAntiga\n",
        "\n",
        "print(\"Camada de Transporte n4:\", camadaAtual)\n",
        "\n",
        "camadaAntiga = camadaAtual\n",
        "camadaAtual = camada5 + camadaAntiga\n",
        "\n",
        "print(\"Camada de Rede n3:\", camadaAtual)\n",
        "\n",
        "camadaAntiga = camadaAtual\n",
        "camadaAtual = camada6 + camadaAntiga\n",
        "\n",
        "print(\"Camada de Enlace de Dados n2:\", camadaAtual)\n",
        "\n",
        "camadaAntiga = camadaAtual\n",
        "camadaAtual = camada7 + camadaAntiga\n",
        "\n",
        "print(\"Camada de Física n1:\", camadaAtual)\n",
        "\n",
        "# h = 0110 1000\n",
        "# 1 = 0011 0001\n",
        "# 2 = 0011 0010\n",
        "# 3 = 0011 0011\n",
        "# 4 = 0011 0100\n",
        "# 5 = 0011 0101\n",
        "# 6 = 0011 0110\n",
        "# 7 = 0011 0111\n",
        "# A = 0100 0001\n",
        "\n",
        "def string_to_binary_ascii(s):\n",
        "    ascii_bin_dict = {\n",
        "        'h': '01101000',\n",
        "        '1': '00110001',\n",
        "        '2': '00110010',\n",
        "        '3': '00110011',\n",
        "        '4': '00110100',\n",
        "        '5': '00110101',\n",
        "        '6': '00110110',\n",
        "        '7': '00110111',\n",
        "        'A': '01000001'\n",
        "    }\n",
        "    return ''.join(ascii_bin_dict[char] for char in s)\n",
        "\n",
        "camadaAtual_bin = string_to_binary_ascii(camadaAtual)\n",
        "print(\"CamadaAtual em binário ASCII:\", camadaAtual_bin)"
      ],
      "metadata": {
        "colab": {
          "base_uri": "https://localhost:8080/"
        },
        "id": "GQXRNCsnh77l",
        "outputId": "c4af6cd2-573c-4b16-93a8-b20d51485e36"
      },
      "execution_count": null,
      "outputs": [
        {
          "output_type": "stream",
          "name": "stdout",
          "text": [
            "A letra atual é A\n",
            "Camada de Aplicação n7: h7A\n",
            "Camada de Apresentação n6: h6h7A\n",
            "Camada de Sessão n5: h5h6h7A\n",
            "Camada de Transporte n4: h4h5h6h7A\n",
            "Camada de Rede n3: h3h4h5h6h7A\n",
            "Camada de Enlace de Dados n2: h2h3h4h5h6h7A\n",
            "Camada de Física n1: h1h2h3h4h5h6h7A\n",
            "CamadaAtual em binário ASCII: 011010000011000101101000001100100110100000110011011010000011010001101000001101010110100000110110011010000011011101000001\n"
          ]
        }
      ]
    },
    {
      "cell_type": "code",
      "source": [
        "def binario_ascii(binario_str):\n",
        "    dicio_binario_ascii = {\n",
        "        '01101000': 'h',\n",
        "        '00110001': '1',\n",
        "        '00110010': '2',\n",
        "        '00110011': '3',\n",
        "        '00110100': '4',\n",
        "        '00110101': '5',\n",
        "        '00110110': '6',\n",
        "        '00110111': '7',\n",
        "        '01000001': 'A'\n",
        "    }\n",
        "    result = ''\n",
        "    for i in range(0, len(binario_str), 8):\n",
        "        byte = binario_str[i:i+8]\n",
        "        result += dicio_binario_ascii.get(byte, '')\n",
        "    return result\n",
        "\n",
        "mensagem_binario = \"011010000011000101101000001100100110100000110011011010000011010001101000001101010110100000110110011010000011011101000001\"\n",
        "mensagem_codificada = binario_ascii(mensagem_binario)\n",
        "print(\"Mensagem Codificada com as camadas OSI:\", mensagem_codificada)\n",
        "\n",
        "def remover_antes_de_h7(mensagem):\n",
        "    indice_h7 = mensagem.find('h7')\n",
        "    if indice_h7 != -1:\n",
        "        return mensagem[indice_h7 + 2:]\n",
        "    return mensagem\n",
        "\n",
        "mensagem = mensagem_codificada\n",
        "resultado = remover_antes_de_h7(mensagem)\n",
        "print(\"A mensagem original é:\", resultado)"
      ],
      "metadata": {
        "colab": {
          "base_uri": "https://localhost:8080/"
        },
        "id": "d6HbyLAKorI-",
        "outputId": "704ba538-c56e-4f43-9f38-b66766a9f213"
      },
      "execution_count": null,
      "outputs": [
        {
          "output_type": "stream",
          "name": "stdout",
          "text": [
            "Mensagem Codificada com as camadas OSI: h1h2h3h4h5h6h7A\n",
            "A mensagem original é: A\n"
          ]
        }
      ]
    },
    {
      "cell_type": "markdown",
      "source": [
        "# Atividade 09 - Switch X Hub"
      ],
      "metadata": {
        "id": "IsCJ1xwOrjbN"
      }
    },
    {
      "cell_type": "markdown",
      "source": [
        "### 1. **Switch**\n",
        "O **switch** encaminha pacotes com base nos endereços MAC dos dispositivos conectados. Ele aprende os endereços MAC de cada dispositivo e envia os pacotes apenas para o destino específico.\n",
        "\n",
        "- **Pacotes enviados de A para C**: Apenas o computador C receberá os pacotes, pois o switch encaminha diretamente para o destinatário com base no MAC de C.\n",
        "  \n",
        "- **Pacotes enviados de C para A**: Apenas o computador A receberá os pacotes enviados por C, já que o switch aprendeu o endereço MAC de A e sabe a qual porta ele está conectado.\n",
        "\n",
        "### 2. **Hub**\n",
        "O **hub**, por outro lado, transmite os pacotes para todos os computadores conectados, independentemente do destino. Ele não possui inteligência para diferenciar os destinatários.\n",
        "\n",
        "- **Pacotes enviados de D para F**: Todos os computadores conectados ao hub (D, E, F) receberão os pacotes. No entanto, apenas o computador F responderá, pois os pacotes são endereçados a ele.\n",
        "\n",
        "- **Pacotes enviados de F para D**: De forma similar, todos os computadores no hub (D, E, F) receberão os pacotes, mas apenas D será o destinatário correto e responderá.\n",
        "\n",
        "### 3. **Análise do pacote ICMP no Hub (de D para F)**\n",
        "\n",
        "- **Endereço físico (MAC) de D**: Ao observar a tabela ARP ou o cabeçalho Ethernet do pacote ICMP, o MAC de D pode ser identificado. No ambiente simulado, este endereço físico seria algo como \"00:XX:XX:XX:XX:XX\".\n",
        "  \n",
        "- **Endereço físico (MAC) de F**: Similarmente, o MAC de F será encontrado no cabeçalho Ethernet do pacote ICMP, sendo algo como \"00:YY:YY:YY:YY:YY\"."
      ],
      "metadata": {
        "id": "o_QfzhzyhOEx"
      }
    },
    {
      "cell_type": "markdown",
      "source": [
        "# Atividade 10 - Calculando e Validando Endereços IP"
      ],
      "metadata": {
        "id": "1I90rYpSrv7o"
      }
    },
    {
      "cell_type": "code",
      "source": [
        "import re\n",
        "import time\n",
        "\n",
        "def validar_ip(ip):\n",
        "    padrao = r\"^(\\d{1,3}\\.){3}\\d{1,3}$\"\n",
        "    if re.match(padrao, ip):\n",
        "        partes = ip.split(\".\")\n",
        "        for parte in partes:\n",
        "            if not parte.isdigit():\n",
        "                return False\n",
        "        return True\n",
        "    return False\n",
        "\n",
        "\n",
        "def validar_mascara(mascara):\n",
        "    mascaras_validas = [\n",
        "        \"255.0.0.0\", \"255.128.0.0\", \"255.192.0.0\", \"255.224.0.0\",\n",
        "        \"255.240.0.0\", \"255.248.0.0\", \"255.252.0.0\", \"255.254.0.0\",\n",
        "        \"255.255.0.0\", \"255.255.128.0\", \"255.255.192.0\", \"255.255.224.0\",\n",
        "        \"255.255.240.0\", \"255.255.248.0\", \"255.255.252.0\", \"255.255.254.0\",\n",
        "        \"255.255.255.0\", \"255.255.255.128\", \"255.255.255.192\", \"255.255.255.224\",\n",
        "        \"255.255.255.240\", \"255.255.255.248\", \"255.255.255.252\", \"255.255.255.254\"\n",
        "    ]\n",
        "    return mascara in mascaras_validas\n",
        "\n",
        "def calcular_rede(ip, mascara):\n",
        "    ip_bits = [int(x) for x in ip.split('.')]\n",
        "    mascara_bits = [int(x) for x in mascara.split('.')]\n",
        "    rede_bits = [ip_bits[i] & mascara_bits[i] for i in range(4)]\n",
        "    return '.'.join(map(str, rede_bits))\n",
        "\n",
        "def calcular_broadcast(ip, mascara):\n",
        "    ip_bits = [int(x) for x in ip.split('.')]\n",
        "    mascara_bits = [int(x) for x in mascara.split('.')]\n",
        "    broadcast_bits = [ip_bits[i] | (~mascara_bits[i] & 0xFF) for i in range(4)]\n",
        "    return '.'.join(map(str, broadcast_bits))\n",
        "\n",
        "def numero_de_hosts(mascara):\n",
        "    binario_mascara = ''.join(format(int(x), '08b') for x in mascara.split('.'))\n",
        "    hosts = 2**(32 - binario_mascara.count('1')) - 2\n",
        "    return hosts\n",
        "\n",
        "def listar_ips_rede(ip, mascara):\n",
        "    rede = calcular_rede(ip, mascara)\n",
        "    broadcast = calcular_broadcast(ip, mascara)\n",
        "\n",
        "    def ip_to_int(ip_str):\n",
        "        return sum([int(octeto) << (8 * i) for i, octeto in enumerate(reversed(ip_str.split('.')))])\n",
        "\n",
        "    def int_to_ip(ip_int):\n",
        "        return '.'.join([str((ip_int >> (8 * i)) & 0xFF) for i in reversed(range(4))])\n",
        "\n",
        "    rede_int = ip_to_int(rede)\n",
        "    broadcast_int = ip_to_int(broadcast)\n",
        "\n",
        "    ips_validos = []\n",
        "    for ip_int in range(rede_int + 1, broadcast_int):\n",
        "        ips_validos.append(int_to_ip(ip_int))\n",
        "\n",
        "    return ips_validos\n",
        "\n",
        "def faixa_uso(ip, mascara):\n",
        "    rede = calcular_rede(ip, mascara)\n",
        "    broadcast = calcular_broadcast(ip, mascara)\n",
        "    return f\"Faixa de uso: {rede} - {broadcast}\"\n",
        "\n",
        "if __name__ == \"__main__\":\n",
        "\n",
        "    print(\"Atividade 10 - Calculando e Validando Endereços IP\")\n",
        "    print(\"Lucas Dal Pra Brascher\")\n",
        "    ip = input(\"Digite um endereço IP (formato xxx.xxx.xxx.xxx): \")\n",
        "    mascara = input(\"Digite uma máscara de sub-rede (formato xxx.xxx.xxx.xxx): \")\n",
        "\n",
        "    if validar_ip(ip) and validar_mascara(mascara):\n",
        "        print(\"Endereço de Rede:\", calcular_rede(ip, mascara))\n",
        "        print(\"Endereço de Broadcast:\", calcular_broadcast(ip, mascara))\n",
        "        print(\"Número de Hosts Disponíveis:\", numero_de_hosts(mascara))\n",
        "        print(\"IPs Disponíveis na Sub-rede:\")\n",
        "        for ip_valido in listar_ips_rede(ip, mascara):\n",
        "            print(ip_valido)\n",
        "        print(faixa_uso(ip, mascara))\n",
        "    else:\n",
        "        print(\"IP ou Máscara de Sub-rede inválido.\")\n"
      ],
      "metadata": {
        "colab": {
          "base_uri": "https://localhost:8080/"
        },
        "id": "c4Gnph22rzn6",
        "outputId": "a6c0a4d8-cbbe-418d-8ca7-ac69f01083cf"
      },
      "execution_count": null,
      "outputs": [
        {
          "output_type": "stream",
          "name": "stdout",
          "text": [
            "Atividade 10 - Calculando e Validando Endereços IP\n",
            "Lucas Dal Pra Brascher\n",
            "Digite um endereço IP (formato xxx.xxx.xxx.xxx): 200.189.119.155\n",
            "Digite uma máscara de sub-rede (formato xxx.xxx.xxx.xxx): 255.255.255.0\n",
            "Endereço de Rede: 200.189.119.0\n",
            "Endereço de Broadcast: 200.189.119.255\n",
            "Número de Hosts Disponíveis: 254\n",
            "IPs Disponíveis na Sub-rede:\n",
            "200.189.119.1\n",
            "200.189.119.2\n",
            "200.189.119.3\n",
            "200.189.119.4\n",
            "200.189.119.5\n",
            "200.189.119.6\n",
            "200.189.119.7\n",
            "200.189.119.8\n",
            "200.189.119.9\n",
            "200.189.119.10\n",
            "200.189.119.11\n",
            "200.189.119.12\n",
            "200.189.119.13\n",
            "200.189.119.14\n",
            "200.189.119.15\n",
            "200.189.119.16\n",
            "200.189.119.17\n",
            "200.189.119.18\n",
            "200.189.119.19\n",
            "200.189.119.20\n",
            "200.189.119.21\n",
            "200.189.119.22\n",
            "200.189.119.23\n",
            "200.189.119.24\n",
            "200.189.119.25\n",
            "200.189.119.26\n",
            "200.189.119.27\n",
            "200.189.119.28\n",
            "200.189.119.29\n",
            "200.189.119.30\n",
            "200.189.119.31\n",
            "200.189.119.32\n",
            "200.189.119.33\n",
            "200.189.119.34\n",
            "200.189.119.35\n",
            "200.189.119.36\n",
            "200.189.119.37\n",
            "200.189.119.38\n",
            "200.189.119.39\n",
            "200.189.119.40\n",
            "200.189.119.41\n",
            "200.189.119.42\n",
            "200.189.119.43\n",
            "200.189.119.44\n",
            "200.189.119.45\n",
            "200.189.119.46\n",
            "200.189.119.47\n",
            "200.189.119.48\n",
            "200.189.119.49\n",
            "200.189.119.50\n",
            "200.189.119.51\n",
            "200.189.119.52\n",
            "200.189.119.53\n",
            "200.189.119.54\n",
            "200.189.119.55\n",
            "200.189.119.56\n",
            "200.189.119.57\n",
            "200.189.119.58\n",
            "200.189.119.59\n",
            "200.189.119.60\n",
            "200.189.119.61\n",
            "200.189.119.62\n",
            "200.189.119.63\n",
            "200.189.119.64\n",
            "200.189.119.65\n",
            "200.189.119.66\n",
            "200.189.119.67\n",
            "200.189.119.68\n",
            "200.189.119.69\n",
            "200.189.119.70\n",
            "200.189.119.71\n",
            "200.189.119.72\n",
            "200.189.119.73\n",
            "200.189.119.74\n",
            "200.189.119.75\n",
            "200.189.119.76\n",
            "200.189.119.77\n",
            "200.189.119.78\n",
            "200.189.119.79\n",
            "200.189.119.80\n",
            "200.189.119.81\n",
            "200.189.119.82\n",
            "200.189.119.83\n",
            "200.189.119.84\n",
            "200.189.119.85\n",
            "200.189.119.86\n",
            "200.189.119.87\n",
            "200.189.119.88\n",
            "200.189.119.89\n",
            "200.189.119.90\n",
            "200.189.119.91\n",
            "200.189.119.92\n",
            "200.189.119.93\n",
            "200.189.119.94\n",
            "200.189.119.95\n",
            "200.189.119.96\n",
            "200.189.119.97\n",
            "200.189.119.98\n",
            "200.189.119.99\n",
            "200.189.119.100\n",
            "200.189.119.101\n",
            "200.189.119.102\n",
            "200.189.119.103\n",
            "200.189.119.104\n",
            "200.189.119.105\n",
            "200.189.119.106\n",
            "200.189.119.107\n",
            "200.189.119.108\n",
            "200.189.119.109\n",
            "200.189.119.110\n",
            "200.189.119.111\n",
            "200.189.119.112\n",
            "200.189.119.113\n",
            "200.189.119.114\n",
            "200.189.119.115\n",
            "200.189.119.116\n",
            "200.189.119.117\n",
            "200.189.119.118\n",
            "200.189.119.119\n",
            "200.189.119.120\n",
            "200.189.119.121\n",
            "200.189.119.122\n",
            "200.189.119.123\n",
            "200.189.119.124\n",
            "200.189.119.125\n",
            "200.189.119.126\n",
            "200.189.119.127\n",
            "200.189.119.128\n",
            "200.189.119.129\n",
            "200.189.119.130\n",
            "200.189.119.131\n",
            "200.189.119.132\n",
            "200.189.119.133\n",
            "200.189.119.134\n",
            "200.189.119.135\n",
            "200.189.119.136\n",
            "200.189.119.137\n",
            "200.189.119.138\n",
            "200.189.119.139\n",
            "200.189.119.140\n",
            "200.189.119.141\n",
            "200.189.119.142\n",
            "200.189.119.143\n",
            "200.189.119.144\n",
            "200.189.119.145\n",
            "200.189.119.146\n",
            "200.189.119.147\n",
            "200.189.119.148\n",
            "200.189.119.149\n",
            "200.189.119.150\n",
            "200.189.119.151\n",
            "200.189.119.152\n",
            "200.189.119.153\n",
            "200.189.119.154\n",
            "200.189.119.155\n",
            "200.189.119.156\n",
            "200.189.119.157\n",
            "200.189.119.158\n",
            "200.189.119.159\n",
            "200.189.119.160\n",
            "200.189.119.161\n",
            "200.189.119.162\n",
            "200.189.119.163\n",
            "200.189.119.164\n",
            "200.189.119.165\n",
            "200.189.119.166\n",
            "200.189.119.167\n",
            "200.189.119.168\n",
            "200.189.119.169\n",
            "200.189.119.170\n",
            "200.189.119.171\n",
            "200.189.119.172\n",
            "200.189.119.173\n",
            "200.189.119.174\n",
            "200.189.119.175\n",
            "200.189.119.176\n",
            "200.189.119.177\n",
            "200.189.119.178\n",
            "200.189.119.179\n",
            "200.189.119.180\n",
            "200.189.119.181\n",
            "200.189.119.182\n",
            "200.189.119.183\n",
            "200.189.119.184\n",
            "200.189.119.185\n",
            "200.189.119.186\n",
            "200.189.119.187\n",
            "200.189.119.188\n",
            "200.189.119.189\n",
            "200.189.119.190\n",
            "200.189.119.191\n",
            "200.189.119.192\n",
            "200.189.119.193\n",
            "200.189.119.194\n",
            "200.189.119.195\n",
            "200.189.119.196\n",
            "200.189.119.197\n",
            "200.189.119.198\n",
            "200.189.119.199\n",
            "200.189.119.200\n",
            "200.189.119.201\n",
            "200.189.119.202\n",
            "200.189.119.203\n",
            "200.189.119.204\n",
            "200.189.119.205\n",
            "200.189.119.206\n",
            "200.189.119.207\n",
            "200.189.119.208\n",
            "200.189.119.209\n",
            "200.189.119.210\n",
            "200.189.119.211\n",
            "200.189.119.212\n",
            "200.189.119.213\n",
            "200.189.119.214\n",
            "200.189.119.215\n",
            "200.189.119.216\n",
            "200.189.119.217\n",
            "200.189.119.218\n",
            "200.189.119.219\n",
            "200.189.119.220\n",
            "200.189.119.221\n",
            "200.189.119.222\n",
            "200.189.119.223\n",
            "200.189.119.224\n",
            "200.189.119.225\n",
            "200.189.119.226\n",
            "200.189.119.227\n",
            "200.189.119.228\n",
            "200.189.119.229\n",
            "200.189.119.230\n",
            "200.189.119.231\n",
            "200.189.119.232\n",
            "200.189.119.233\n",
            "200.189.119.234\n",
            "200.189.119.235\n",
            "200.189.119.236\n",
            "200.189.119.237\n",
            "200.189.119.238\n",
            "200.189.119.239\n",
            "200.189.119.240\n",
            "200.189.119.241\n",
            "200.189.119.242\n",
            "200.189.119.243\n",
            "200.189.119.244\n",
            "200.189.119.245\n",
            "200.189.119.246\n",
            "200.189.119.247\n",
            "200.189.119.248\n",
            "200.189.119.249\n",
            "200.189.119.250\n",
            "200.189.119.251\n",
            "200.189.119.252\n",
            "200.189.119.253\n",
            "200.189.119.254\n",
            "Faixa de uso: 200.189.119.0 - 200.189.119.255\n"
          ]
        }
      ]
    },
    {
      "cell_type": "markdown",
      "source": [],
      "metadata": {
        "id": "dL3vTaLGrQey"
      }
    },
    {
      "cell_type": "markdown",
      "source": [
        "# Atividade 13 - TCP e UDP\n",
        "\n",
        "\n"
      ],
      "metadata": {
        "id": "lWOlh0zCrRz3"
      }
    },
    {
      "cell_type": "markdown",
      "source": [
        "O **TCP (Transmission Control Protocol)** é um protocolo orientado à conexão e oferece uma transmissão confiável de dados entre os sistemas finais. O funcionamento do TCP é baseado em um conjunto de mecanismos que garantem a entrega dos pacotes na ordem correta e sem perdas. O processo de transmissão confiável do TCP pode ser descrito em várias fases, como mostrado a seguir:\n",
        "\n",
        "## 1. Estabelecimento da Conexão - Handshake Triplo (Three-Way Handshake)\n",
        "O processo de comunicação no TCP começa com a troca de três pacotes entre o cliente e o servidor para estabelecer uma conexão. Esse processo é conhecido como **Three-Way Handshake**:\n",
        "\n",
        "- **Step 1**: O cliente envia um pacote SYN (synchronize) para o servidor, indicando que deseja iniciar a conexão.\n",
        "- **Step 2**: O servidor responde com um pacote SYN-ACK (synchronize-acknowledge), confirmando a solicitação e aceitando a conexão.\n",
        "- **Step 3**: O cliente envia um pacote ACK (acknowledge), confirmando que a conexão foi estabelecida.\n",
        "\n",
        "## 2. Transmissão de Dados Confiável\n",
        "Durante a comunicação, o TCP garante que os dados sejam entregues corretamente, seguindo algumas regras importantes:\n",
        "\n",
        "- **Sequenciamento**: O TCP numera os pacotes enviados com um número de sequência (sequence number), garantindo que os pacotes cheguem na ordem correta.\n",
        "- **Confirmação (ACK)**: A cada pacote recebido, o receptor envia um pacote de confirmação (ACK). Se o transmissor não receber a confirmação, ele retransmite o pacote.\n",
        "- **Controle de Fluxo**: O TCP utiliza o controle de fluxo para evitar que o receptor seja sobrecarregado. Ele limita a quantidade de dados que o transmissor pode enviar sem receber uma confirmação.\n",
        "- **Controle de Congestionamento**: O TCP também possui mecanismos para controlar a quantidade de dados enviados quando há congestionamento na rede. Isso ajuda a evitar que a rede fique saturada.\n",
        "\n",
        "## 3. Fechamento da Conexão\n",
        "Quando a comunicação é concluída, a conexão TCP é fechada de forma ordenada:\n",
        "\n",
        "- **Step 1**: O cliente envia um pacote FIN (finish), solicitando o fechamento da conexão.\n",
        "- **Step 2**: O servidor responde com um pacote ACK, confirmando o recebimento do FIN.\n",
        "- **Step 3**: O servidor também envia um pacote FIN para indicar que a conexão foi completamente encerrada.\n",
        "- **Step 4**: O cliente confirma o recebimento do FIN com um pacote ACK, e a conexão é finalizada.\n",
        "\n",
        "## Mecanismos de Confiabilidade do TCP\n",
        "- **Retransmissões**: Caso o transmissor não receba a confirmação de um pacote, ele retransmite o pacote.\n",
        "- **Controle de erros**: O TCP usa somas de verificação (checksums) para detectar erros nos dados.\n",
        "- **Ordem dos pacotes**: O TCP garante que os pacotes sejam entregues ao receptor na mesma ordem em que foram enviados.\n",
        "\n",
        "---\n",
        "\n",
        "# Funcionamento da Transmissão UDP\n",
        "\n",
        "O **UDP (User Datagram Protocol)** é um protocolo não orientado à conexão, e não oferece garantias de entrega ou ordem de pacotes. Ao contrário do TCP, o UDP é um protocolo mais simples e mais rápido, mas com menos confiabilidade. O funcionamento da transmissão UDP pode ser descrito da seguinte maneira:\n",
        "\n",
        "## 1. Sem Estabelecimento de Conexão\n",
        "O UDP não realiza o **Three-Way Handshake**. Ou seja, não há um processo de estabelecimento de conexão antes do envio de dados. O transmissor simplesmente envia os pacotes para o receptor, sem verificar se o receptor está pronto para receber ou se os pacotes chegaram corretamente.\n",
        "\n",
        "## 2. Envio de Pacotes Independentes\n",
        "O UDP transmite os dados em **datagramas**, que são pacotes independentes. Cada datagrama UDP contém:\n",
        "\n",
        "- **Cabeçalho** com informações como número de porta, comprimento do datagrama e checksum.\n",
        "- **Dados** que são a carga útil que está sendo transmitida.\n",
        "\n",
        "O UDP não garante a entrega dos pacotes, nem a ordem de chegada. Os pacotes podem ser perdidos, duplicados ou chegar fora de ordem.\n",
        "\n",
        "## 3. Controle de Erros com Checksums\n",
        "Embora o UDP não ofereça controle de fluxo ou controle de congestionamento como o TCP, ele ainda oferece um controle básico de erros usando **checksums**. O checksum permite que o receptor verifique se os dados chegaram corrompidos, mas não há uma tentativa de retransmissão caso isso ocorra.\n",
        "\n",
        "## 4. Sem Confirmação ou Retransmissões\n",
        "Ao contrário do TCP, o UDP não possui um mecanismo de confirmação de recebimento (ACK) dos pacotes. Isso significa que, se um pacote for perdido, o transmissor não tem como saber disso, nem fará retransmissões.\n",
        "\n",
        "## 5. Aplicações do UDP\n",
        "O UDP é utilizado em situações onde a velocidade é mais importante que a confiabilidade, como em:\n",
        "\n",
        "- **Streaming de mídia** (vídeos, áudios),\n",
        "- **Jogos online**,\n",
        "- **DNS (Domain Name System)**,\n",
        "- **VoIP (Voice over IP)**.\n",
        "\n",
        "Essas aplicações podem tolerar algumas perdas de pacotes, mas precisam de baixa latência e velocidade de transmissão.\n",
        "\n",
        "## Conclusão\n",
        "Embora o UDP seja mais rápido e menos complexo, ele não oferece as garantias de entrega, ordem ou confiabilidade que o TCP fornece. A escolha entre UDP e TCP depende das necessidades específicas da aplicação, como a tolerância a falhas, latência e a quantidade de dados a ser transmitida.\n",
        "\n"
      ],
      "metadata": {
        "id": "4AhciBGerWLz"
      }
    },
    {
      "cell_type": "markdown",
      "source": [
        "# Atividade 14 – Detalhamento TCP"
      ],
      "metadata": {
        "id": "vDnSpCa91khP"
      }
    },
    {
      "cell_type": "markdown",
      "source": [
        "1. **Flags URG, PSH e RST:**\n",
        "   - **URG (Urgent):** O bit URG indica que os dados marcados como urgentes devem ser processados imediatamente, pulando a fila normal de dados. O campo \"Ponteiro de Urgência\" no cabeçalho especifica a localização dos dados urgentes.\n",
        "   - **PSH (Push):** A flag PSH instrui o receptor a entregar os dados imediatamente à aplicação, sem esperar por mais pacotes, agilizando a comunicação.\n",
        "   - **RST (Reset):** O RST é usado para reinicializar a conexão TCP abruptamente. É útil quando há erros na conexão ou quando um lado quer encerrar imediatamente a comunicação sem seguir o fechamento de conexão padrão."
      ],
      "metadata": {
        "id": "98TFGWUwhTD5"
      }
    },
    {
      "cell_type": "markdown",
      "source": [
        "2. **Transmissão por fluxo e controle de fluxo no TCP:**\n",
        "   - No TCP, a transmissão de dados ocorre de forma contínua em um fluxo de bytes, o que permite ao protocolo decidir como os dados serão segmentados. O TCP também implementa o **controle de fluxo**, ajustando a velocidade de envio de dados com base na capacidade do receptor, evitando que o buffer do receptor fique sobrecarregado. Isso é realizado por meio do campo \"Janela de Recepção\" no cabeçalho TCP, que indica quanto espaço o receptor tem disponível."
      ],
      "metadata": {
        "id": "Uq1RkbU0hVQo"
      }
    },
    {
      "cell_type": "markdown",
      "source": [
        "3. **Processo de comunicação confiável no TCP:**\n",
        "   - O TCP assegura a comunicação confiável usando números de sequência e confirmações (ACKs). Cada segmento é numerado, e o receptor envia um ACK confirmando o recebimento de dados. Se o remetente não receber um ACK dentro de um período de tempo específico, ele retransmite os dados. Essa retransmissão por ausência de confirmação garante que os pacotes cheguem corretamente ao destino."
      ],
      "metadata": {
        "id": "HvHcubN7hYIe"
      }
    },
    {
      "cell_type": "markdown",
      "source": [
        "4. **Reconhecimento positivo com temporizadores:**\n",
        "   - Esse mecanismo do TCP define que, após o envio de um segmento, o remetente aguarda uma confirmação (ACK) dentro de um tempo limite, calculado com base no Round-Trip Time (RTT). Se o ACK não for recebido nesse tempo, o segmento é retransmitido. O transmissor usa técnicas como a estimativa de RTT e a variação no tempo para ajustar o tempo de retransmissão e evitar a perda de pacotes."
      ],
      "metadata": {
        "id": "g09z2qYkhZ8m"
      }
    },
    {
      "cell_type": "markdown",
      "source": [
        "5. **Controle de congestionamento no TCP:**\n",
        "   - O controle de congestionamento do TCP ajusta dinamicamente a taxa de envio de dados com base no congestionamento da rede. O transmissor começa enviando pequenos volumes de dados e aumenta progressivamente (crescimento exponencial) até atingir um limite, chamado **Threshold**. Se ocorrer perda de pacotes, a janela de congestionamento (CongWindow) é reduzida. O objetivo é prevenir sobrecarga da rede e otimizar a transmissão de dados."
      ],
      "metadata": {
        "id": "RIfkgk2jhbdt"
      }
    }
  ]
}